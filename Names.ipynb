{
  "nbformat": 4,
  "nbformat_minor": 0,
  "metadata": {
    "colab": {
      "provenance": [],
      "authorship_tag": "ABX9TyPB6XQbBYcn4wwA+MlpX/8E",
      "include_colab_link": true
    },
    "kernelspec": {
      "name": "python3",
      "display_name": "Python 3"
    },
    "language_info": {
      "name": "python"
    }
  },
  "cells": [
    {
      "cell_type": "markdown",
      "metadata": {
        "id": "view-in-github",
        "colab_type": "text"
      },
      "source": [
        "<a href=\"https://colab.research.google.com/github/gabrieldiniz2307/A3_2023/blob/main/Untitled6.ipynb\" target=\"_parent\"><img src=\"https://colab.research.google.com/assets/colab-badge.svg\" alt=\"Open In Colab\"/></a>"
      ]
    },
    {
      "cell_type": "code",
      "execution_count": null,
      "metadata": {
        "id": "pG9Z5YvB988J"
      },
      "outputs": [],
      "source": [
        "Projeto De Inteligencia Artificial A3\n",
        "\n",
        "Name: João Gabriel de Araujo Diniz\n",
        "RA: 12522198775\n",
        "Name: Carlos Emanuel da Silva Pinho\n",
        "RA:11252228970\n",
        "Regressão Linear e Regressão Logistica\n",
        "Date: 30/11/2023\n"
      ]
    }
  ]
}
